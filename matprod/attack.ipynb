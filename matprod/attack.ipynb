{
 "cells": [
  {
   "cell_type": "code",
   "execution_count": 1,
   "metadata": {
    "vscode": {
     "languageId": "plaintext"
    }
   },
   "outputs": [
    {
     "name": "stdout",
     "output_type": "stream",
     "text": [
      "Found perm [16, 28, 31, 26, 19, 20, 24, 23, 34, 7, 17, 27, 29, 21, 13, 14, 12, 18, 22, 1, 9, 8, 25, 32, 30, 33, 3, 0, 11, 6, 2, 15, 10, 4, 5]\n",
      "Passed test_break_direct_cryptosystem\n"
     ]
    }
   ],
   "source": [
    "from break_direct import break_direct_cryptosystem, gen_direct_challenge_local\n",
    "(n, k, a, p) = 10, 35, 2, 2**302 + 307\n",
    "direct_paras = (n, k, a, p)\n",
    "(pubkey, C), msg = gen_direct_challenge_local(direct_paras)\n",
    "sol = break_direct_cryptosystem(direct_paras, pubkey, C)\n",
    "assert sol == msg, f\"Failed: {sol} != {msg}\"\n",
    "print(\"Passed test_break_direct_cryptosystem\")"
   ]
  },
  {
   "cell_type": "code",
   "execution_count": 2,
   "metadata": {},
   "outputs": [
    {
     "name": "stdout",
     "output_type": "stream",
     "text": [
      "Recovering bits from 0 to 16\n",
      "Number of samples used: 335 (also the dimension of lattice)\n",
      "Estimated bit-length of trace bound: 371\n",
      "Starts to do LLL(flatter) reduction with dimensions (335, 335)\n",
      "Ends LLL reduction in 113.12s\n",
      "Average bit-length of recovered traces: 358\n"
     ]
    },
    {
     "name": "stderr",
     "output_type": "stream",
     "text": [
      "Trying to brute-force the valid partial solution:  25%|████████                        | 64/256 [00:10<00:30,  6.22it/s]\n"
     ]
    },
    {
     "name": "stdout",
     "output_type": "stream",
     "text": [
      "Trace_mA : 359 bits, estimated trace_bound: 371 bits\n",
      "Found partial solution of 0 to 16\n",
      "Current recovered bits: [0, 1, 0, 0, 0, 0, 0, 0, 0, 1, 0, 1, 0, 1, 1, 1]\n",
      "\n",
      "Recovering bits from 16 to 32\n",
      "Number of samples used: 266 (also the dimension of lattice)\n",
      "Estimated bit-length of trace bound: 318\n",
      "Starts to do LLL(flatter) reduction with dimensions (266, 266)\n",
      "Ends LLL reduction in 49.47s\n",
      "Average bit-length of recovered traces: 305\n"
     ]
    },
    {
     "name": "stderr",
     "output_type": "stream",
     "text": [
      "Trying to brute-force the valid partial solution:  91%|████████████████████████████   | 232/256 [00:36<00:03,  6.27it/s]\n"
     ]
    },
    {
     "name": "stdout",
     "output_type": "stream",
     "text": [
      "Trace_mA : 305 bits, estimated trace_bound: 318 bits\n",
      "Found partial solution of 16 to 32\n",
      "Current recovered bits: [0, 1, 0, 0, 0, 0, 0, 0, 0, 1, 0, 1, 0, 1, 1, 1, 1, 1, 1, 0, 1, 0, 0, 0, 0, 0, 0, 0, 1, 1, 0, 1]\n",
      "\n",
      "Recovering bits from 32 to 48\n",
      "Number of samples used: 224 (also the dimension of lattice)\n",
      "Estimated bit-length of trace bound: 267\n",
      "Starts to do LLL(flatter) reduction with dimensions (224, 224)\n",
      "Ends LLL reduction in 25.96s\n",
      "Average bit-length of recovered traces: 252\n"
     ]
    },
    {
     "name": "stderr",
     "output_type": "stream",
     "text": [
      "Trying to brute-force the valid partial solution:  27%|████████▋                       | 69/256 [00:11<00:29,  6.26it/s]\n"
     ]
    },
    {
     "name": "stdout",
     "output_type": "stream",
     "text": [
      "Trace_mA : 254 bits, estimated trace_bound: 267 bits\n",
      "Found partial solution of 32 to 48\n",
      "Current recovered bits: [0, 1, 0, 0, 0, 0, 0, 0, 0, 1, 0, 1, 0, 1, 1, 1, 1, 1, 1, 0, 1, 0, 0, 0, 0, 0, 0, 0, 1, 1, 0, 1, 0, 1, 0, 0, 0, 1, 0, 1, 1, 0, 0, 1, 0, 1, 0, 1]\n",
      "\n",
      "Recovering bits from 48 to 64\n",
      "Number of samples used: 194 (also the dimension of lattice)\n",
      "Estimated bit-length of trace bound: 215\n",
      "Starts to do LLL(flatter) reduction with dimensions (194, 194)\n",
      "Ends LLL reduction in 18.48s\n",
      "Average bit-length of recovered traces: 199\n"
     ]
    },
    {
     "name": "stderr",
     "output_type": "stream",
     "text": [
      "Trying to brute-force the valid partial solution:  34%|██████████▊                     | 86/256 [00:13<00:27,  6.24it/s]\n"
     ]
    },
    {
     "name": "stdout",
     "output_type": "stream",
     "text": [
      "Trace_mA : 201 bits, estimated trace_bound: 215 bits\n",
      "Found partial solution of 48 to 64\n",
      "Current recovered bits: [0, 1, 0, 0, 0, 0, 0, 0, 0, 1, 0, 1, 0, 1, 1, 1, 1, 1, 1, 0, 1, 0, 0, 0, 0, 0, 0, 0, 1, 1, 0, 1, 0, 1, 0, 0, 0, 1, 0, 1, 1, 0, 0, 1, 0, 1, 0, 1, 0, 1, 0, 1, 0, 1, 1, 0, 1, 0, 0, 0, 1, 1, 1, 1]\n",
      "\n",
      "Recovering bits from 64 to 80\n",
      "Number of samples used: 173 (also the dimension of lattice)\n",
      "Estimated bit-length of trace bound: 163\n",
      "Starts to do LLL(flatter) reduction with dimensions (173, 173)\n",
      "Ends LLL reduction in 11.97s\n",
      "Average bit-length of recovered traces: 146\n"
     ]
    },
    {
     "name": "stderr",
     "output_type": "stream",
     "text": [
      "Trying to brute-force the valid partial solution:  68%|████████████████████▉          | 173/256 [00:27<00:13,  6.23it/s]\n"
     ]
    },
    {
     "name": "stdout",
     "output_type": "stream",
     "text": [
      "Trace_mA : 147 bits, estimated trace_bound: 163 bits\n",
      "Found partial solution of 64 to 80\n",
      "Current recovered bits: [0, 1, 0, 0, 0, 0, 0, 0, 0, 1, 0, 1, 0, 1, 1, 1, 1, 1, 1, 0, 1, 0, 0, 0, 0, 0, 0, 0, 1, 1, 0, 1, 0, 1, 0, 0, 0, 1, 0, 1, 1, 0, 0, 1, 0, 1, 0, 1, 0, 1, 0, 1, 0, 1, 1, 0, 1, 0, 0, 0, 1, 1, 1, 1, 1, 0, 1, 0, 1, 1, 0, 1, 0, 0, 1, 0, 0, 0, 0, 0]\n",
      "\n",
      "Recovering bits from 80 to 96\n",
      "Number of samples used: 155 (also the dimension of lattice)\n",
      "Estimated bit-length of trace bound: 108\n",
      "Starts to do LLL(flatter) reduction with dimensions (155, 155)\n",
      "Ends LLL reduction in 8.36s\n",
      "Average bit-length of recovered traces: 93\n"
     ]
    },
    {
     "name": "stderr",
     "output_type": "stream",
     "text": [
      "Trying to brute-force the valid partial solution:  75%|███████████████████████▎       | 193/256 [00:30<00:10,  6.25it/s]\n"
     ]
    },
    {
     "name": "stdout",
     "output_type": "stream",
     "text": [
      "Trace_mA : 94 bits, estimated trace_bound: 108 bits\n",
      "Found partial solution of 80 to 96\n",
      "Current recovered bits: [0, 1, 0, 0, 0, 0, 0, 0, 0, 1, 0, 1, 0, 1, 1, 1, 1, 1, 1, 0, 1, 0, 0, 0, 0, 0, 0, 0, 1, 1, 0, 1, 0, 1, 0, 0, 0, 1, 0, 1, 1, 0, 0, 1, 0, 1, 0, 1, 0, 1, 0, 1, 0, 1, 1, 0, 1, 0, 0, 0, 1, 1, 1, 1, 1, 0, 1, 0, 1, 1, 0, 1, 0, 0, 1, 0, 0, 0, 0, 0, 1, 1, 0, 0, 0, 0, 0, 1, 1, 0, 0, 0, 0, 1, 1, 1]\n",
      "\n",
      "Recovering bits from 96 to 112\n",
      "Number of samples used: 142 (also the dimension of lattice)\n",
      "Estimated bit-length of trace bound: 54\n",
      "Starts to do LLL(flatter) reduction with dimensions (142, 142)\n",
      "Ends LLL reduction in 5.36s\n",
      "Average bit-length of recovered traces: 40\n"
     ]
    },
    {
     "name": "stderr",
     "output_type": "stream",
     "text": [
      "Trying to brute-force the valid partial solution:   9%|██▉                             | 23/256 [00:03<00:37,  6.22it/s]\n"
     ]
    },
    {
     "name": "stdout",
     "output_type": "stream",
     "text": [
      "Trace_mA : 44 bits, estimated trace_bound: 54 bits\n",
      "Found partial solution of 96 to 112\n",
      "Current recovered bits: [0, 1, 0, 0, 0, 0, 0, 0, 0, 1, 0, 1, 0, 1, 1, 1, 1, 1, 1, 0, 1, 0, 0, 0, 0, 0, 0, 0, 1, 1, 0, 1, 0, 1, 0, 0, 0, 1, 0, 1, 1, 0, 0, 1, 0, 1, 0, 1, 0, 1, 0, 1, 0, 1, 1, 0, 1, 0, 0, 0, 1, 1, 1, 1, 1, 0, 1, 0, 1, 1, 0, 1, 0, 0, 1, 0, 0, 0, 0, 0, 1, 1, 0, 0, 0, 0, 0, 1, 1, 0, 0, 0, 0, 1, 1, 1, 0, 0, 0, 1, 0, 1, 1, 1, 0, 0, 1, 0, 1, 1, 1, 0]\n",
      "\n",
      "Recovering bits from 112 to 128\n"
     ]
    },
    {
     "name": "stderr",
     "output_type": "stream",
     "text": [
      "Trying to brute-force the valid partial solution:  43%|█████████████▍                 | 111/256 [00:15<00:20,  6.95it/s]"
     ]
    },
    {
     "name": "stdout",
     "output_type": "stream",
     "text": [
      "Found partial solution of 112 to 128\n",
      "The recovered bits: [0, 1, 0, 0, 0, 0, 0, 0, 0, 1, 0, 1, 0, 1, 1, 1, 1, 1, 1, 0, 1, 0, 0, 0, 0, 0, 0, 0, 1, 1, 0, 1, 0, 1, 0, 0, 0, 1, 0, 1, 1, 0, 0, 1, 0, 1, 0, 1, 0, 1, 0, 1, 0, 1, 1, 0, 1, 0, 0, 0, 1, 1, 1, 1, 1, 0, 1, 0, 1, 1, 0, 1, 0, 0, 1, 0, 0, 0, 0, 0, 1, 1, 0, 0, 0, 0, 0, 1, 1, 0, 0, 0, 0, 1, 1, 1, 0, 0, 0, 1, 0, 1, 1, 1, 0, 0, 1, 0, 1, 1, 1, 0, 0, 1, 1, 0, 1, 1, 1, 1, 0, 0, 0, 1, 0, 1, 1, 1]\n",
      "Original message: 309660571259540295751291908397221800450\n",
      "Recovered message: 309660571259540295751291908397221800450\n",
      "Fine\n"
     ]
    },
    {
     "name": "stderr",
     "output_type": "stream",
     "text": [
      "\n"
     ]
    }
   ],
   "source": [
    "from break_alternating import gen_alternating_challenge_local, break_alternating_cryptosystem\n",
    "(n, k, a, p) = 10, 128, 2, 2**553 + 549\n",
    "paras = (n, k, a, p)\n",
    "data, msg = gen_alternating_challenge_local(None, paras)\n",
    "pubkey, C = data[\"challenge\"]\n",
    "# Eij = recover_Eij(paras, pubkey, 48, 0)\n",
    "m_bits = break_alternating_cryptosystem(paras, pubkey, C, step_size=16)\n",
    "msg_ = int(\"\".join(map(str, m_bits[::-1])), 2)\n",
    "print(f\"Original message: {msg}\")\n",
    "print(f\"Recovered message: {msg_}\")\n",
    "assert msg == msg_, \"Failed to recover the message\"\n",
    "print(\"Fine\")"
   ]
  },
  {
   "cell_type": "code",
   "execution_count": null,
   "metadata": {},
   "outputs": [],
   "source": []
  }
 ],
 "metadata": {
  "kernelspec": {
   "display_name": "Python 3 (ipykernel)",
   "language": "python",
   "name": "python3"
  },
  "language_info": {
   "codemirror_mode": {
    "name": "ipython",
    "version": 3
   },
   "file_extension": ".py",
   "mimetype": "text/x-python",
   "name": "python",
   "nbconvert_exporter": "python",
   "pygments_lexer": "ipython3",
   "version": "3.11.9"
  }
 },
 "nbformat": 4,
 "nbformat_minor": 4
}
